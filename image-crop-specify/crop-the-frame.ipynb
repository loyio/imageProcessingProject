{
 "cells": [
  {
   "cell_type": "code",
   "execution_count": 1,
   "id": "imperial-disorder",
   "metadata": {},
   "outputs": [],
   "source": [
    "import cv2\n",
    "import numpy as np\n",
    "from  matplotlib import pyplot as plt\n",
    "%matplotlib inline"
   ]
  },
  {
   "cell_type": "code",
   "execution_count": 2,
   "id": "pressing-organic",
   "metadata": {},
   "outputs": [],
   "source": [
    "def plot_image(image, title):\n",
    "    plt.imshow(image)\n",
    "    plt.title(title, size=20)\n",
    "    plt.axis('off')"
   ]
  },
  {
   "cell_type": "code",
   "execution_count": 3,
   "id": "plastic-completion",
   "metadata": {},
   "outputs": [],
   "source": [
    "src = cv2.imread(\"test.png\")"
   ]
  },
  {
   "cell_type": "code",
   "execution_count": 4,
   "id": "broke-clark",
   "metadata": {},
   "outputs": [],
   "source": [
    "hsv = cv2.cvtColor(src, cv2.COLOR_BGR2HSV)"
   ]
  },
  {
   "cell_type": "code",
   "execution_count": 9,
   "id": "falling-aquatic",
   "metadata": {
    "scrolled": true
   },
   "outputs": [
    {
     "data": {
      "image/png": "[encoded data removed]",
      "text/plain": [
       "<Figure size 432x288 with 1 Axes>"
      ]
     },
     "metadata": {
      "needs_background": "light"
     },
     "output_type": "display_data"
    }
   ],
   "source": [
    "low_hsv = np.array([156,43,46])\n",
    "high_hsv = np.array([180,255,255])\n",
    "mask = cv2.inRange(hsv, lowerb=low_hsv, upperb=high_hsv)\n",
    "plot_image(mask, \"\")\n",
    "plt.show()"
   ]
  },
  {
   "cell_type": "code",
   "execution_count": 68,
   "id": "fewer-settle",
   "metadata": {
    "scrolled": true
   },
   "outputs": [
    {
     "name": "stdout",
     "output_type": "stream",
     "text": [
      "(164, 229, 67, 50)\n",
      "轮廓数量 1\n",
      "164\n"
     ]
    }
   ],
   "source": [
    "contours, hier = cv2.findContours(mask, cv2.RETR_EXTERNAL, cv2.CHAIN_APPROX_SIMPLE)\n",
    "for c in contours:  #遍历轮廓\n",
    "    print(str(cv2.boundingRect(c)))\n",
    "    box = cv2.boundingRect(c)\n",
    "print(\"轮廓数量\", len(contours))\n",
    "print(str(box[0]))\n",
    "img_cut = src[box[1]+1:box[1]+box[3]-1, box[0]+1:box[0]+box[2]-1]"
   ]
  },
  {
   "cell_type": "code",
   "execution_count": 69,
   "id": "experienced-ferry",
   "metadata": {},
   "outputs": [
    {
     "data": {
      "image/png": "[encoded data removed]",
      "text/plain": [
       "<Figure size 432x288 with 1 Axes>"
      ]
     },
     "metadata": {
      "needs_background": "light"
     },
     "output_type": "display_data"
    }
   ],
   "source": [
    "plot_image(img_cut, \"\")"
   ]
  },
  {
   "cell_type": "code",
   "execution_count": null,
   "id": "statewide-genealogy",
   "metadata": {},
   "outputs": [],
   "source": []
  }
 ],
 "metadata": {
  "kernelspec": {
   "display_name": "Python 3",
   "language": "python",
   "name": "python3"
  },
  "language_info": {
   "codemirror_mode": {
    "name": "ipython",
    "version": 3
   },
   "file_extension": ".py",
   "mimetype": "text/x-python",
   "name": "python",
   "nbconvert_exporter": "python",
   "pygments_lexer": "ipython3",
   "version": "3.8.8"
  }
 },
 "nbformat": 4,
 "nbformat_minor": 5
}
