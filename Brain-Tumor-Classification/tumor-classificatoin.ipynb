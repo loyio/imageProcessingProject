{
 "cells": [
  {
   "cell_type": "code",
   "execution_count": 2,
   "id": "collectible-crown",
   "metadata": {},
   "outputs": [],
   "source": [
    "import numpy as np\n",
    "import tensorflow.keras\n",
    "import tensorflow as tf\n",
    "from tensorflow.keras.preprocessing.image import ImageDataGenerator\n",
    "from tensorflow.keras.models import Sequential,Model,load_model\n",
    "from tensorflow.keras.layers import Conv2D, MaxPooling2D\n",
    "from tensorflow.keras.layers import Dense,Dropout,Activation,Flatten,BatchNormalization\n",
    "from tensorflow.keras.optimizers import Adam"
   ]
  },
  {
   "cell_type": "code",
   "execution_count": 3,
   "id": "phantom-equilibrium",
   "metadata": {},
   "outputs": [],
   "source": [
    "from tensorflow.python.compiler.mlcompute import mlcompute"
   ]
  },
  {
   "cell_type": "code",
   "execution_count": 4,
   "id": "fluid-hampshire",
   "metadata": {},
   "outputs": [
    {
     "data": {
      "text/plain": [
       "True"
      ]
     },
     "execution_count": 4,
     "metadata": {},
     "output_type": "execute_result"
    }
   ],
   "source": [
    "mlcompute.is_apple_mlc_enabled()"
   ]
  },
  {
   "cell_type": "code",
   "execution_count": 5,
   "id": "adaptive-bridal",
   "metadata": {},
   "outputs": [
    {
     "data": {
      "text/plain": [
       "True"
      ]
     },
     "execution_count": 5,
     "metadata": {},
     "output_type": "execute_result"
    }
   ],
   "source": [
    "mlcompute.is_tf_compiled_with_apple_mlc()"
   ]
  },
  {
   "cell_type": "code",
   "execution_count": 6,
   "id": "frequent-mailing",
   "metadata": {},
   "outputs": [
    {
     "name": "stdout",
     "output_type": "stream",
     "text": [
      "WARNING:tensorflow:Eager mode uses the CPU. Switching to the CPU.\n"
     ]
    }
   ],
   "source": [
    "mlcompute.set_mlc_device(device_name='gpu')"
   ]
  },
  {
   "cell_type": "code",
   "execution_count": 7,
   "id": "funded-disability",
   "metadata": {},
   "outputs": [],
   "source": [
    "train_data = \"input/Training/\"\n",
    "test_data = \"input/Testing/\""
   ]
  },
  {
   "cell_type": "code",
   "execution_count": 8,
   "id": "worse-brand",
   "metadata": {},
   "outputs": [],
   "source": [
    "img_rows, img_cols = 224, 224\n",
    "batch_size = 32\n",
    "classes = 4"
   ]
  },
  {
   "cell_type": "code",
   "execution_count": 9,
   "id": "engaging-brief",
   "metadata": {},
   "outputs": [],
   "source": [
    "train_datagen = ImageDataGenerator(rescale = 1./255,\n",
    "                                   rotation_range=25,\n",
    "                                   height_shift_range = 0.3,\n",
    "                                   width_shift_range = 0.3,\n",
    "                                   zoom_range = 0.2,\n",
    "                                   horizontal_flip = True,\n",
    "                                   vertical_flip = True,\n",
    "                                   fill_mode = \"nearest\")\n",
    "test_datagen = ImageDataGenerator(rescale = 1./255)"
   ]
  },
  {
   "cell_type": "code",
   "execution_count": 10,
   "id": "aging-eating",
   "metadata": {},
   "outputs": [
    {
     "name": "stdout",
     "output_type": "stream",
     "text": [
      "Found 2870 images belonging to 4 classes.\n"
     ]
    }
   ],
   "source": [
    "train_generator = train_datagen.flow_from_directory(train_data,\n",
    "                                                    batch_size = batch_size,\n",
    "                                                    target_size = (img_rows, img_cols),\n",
    "                                                    class_mode = \"categorical\",\n",
    "                                                    shuffle = True)"
   ]
  },
  {
   "cell_type": "code",
   "execution_count": 11,
   "id": "august-church",
   "metadata": {},
   "outputs": [
    {
     "name": "stdout",
     "output_type": "stream",
     "text": [
      "Found 394 images belonging to 4 classes.\n"
     ]
    }
   ],
   "source": [
    "test_generator = test_datagen.flow_from_directory(test_data,\n",
    "                                                batch_size = batch_size,\n",
    "                                                target_size = (img_rows, img_cols),\n",
    "                                                class_mode = \"categorical\")"
   ]
  },
  {
   "cell_type": "code",
   "execution_count": 12,
   "id": "entire-glenn",
   "metadata": {},
   "outputs": [],
   "source": [
    "from tensorflow.keras.applications import VGG16\n",
    "from tensorflow.keras.layers import ZeroPadding2D,GlobalAveragePooling2D"
   ]
  },
  {
   "cell_type": "code",
   "execution_count": 13,
   "id": "dynamic-steering",
   "metadata": {},
   "outputs": [],
   "source": [
    "vggmodel = VGG16(weights=\"imagenet\",\n",
    "                input_shape=(img_rows,img_cols,3),\n",
    "                include_top=False)\n",
    "for layer in vggmodel.layers:\n",
    "    layer.trainable=False\n",
    "    \n",
    "def top_model(bottom_model,num_classes):\n",
    "    top_model = bottom_model.output\n",
    "    top_model = BatchNormalization()(top_model)\n",
    "    top_model = GlobalAveragePooling2D()(top_model)\n",
    "    top_model = Dense(1024,activation=\"relu\")(top_model)\n",
    "    top_model = BatchNormalization()(top_model)\n",
    "    top_model = Dense(512,activation=\"relu\")(top_model)\n",
    "    top_model = BatchNormalization()(top_model)\n",
    "    top_model = Dense(num_classes,activation=\"softmax\")(top_model)\n",
    "    return top_model"
   ]
  },
  {
   "cell_type": "code",
   "execution_count": 14,
   "id": "agricultural-wallet",
   "metadata": {},
   "outputs": [
    {
     "name": "stdout",
     "output_type": "stream",
     "text": [
      "Model: \"model\"\n",
      "_________________________________________________________________\n",
      "Layer (type)                 Output Shape              Param #   \n",
      "=================================================================\n",
      "input_1 (InputLayer)         [(None, 224, 224, 3)]     0         \n",
      "_________________________________________________________________\n",
      "block1_conv1 (Conv2D)        (None, 224, 224, 64)      1792      \n",
      "_________________________________________________________________\n",
      "block1_conv2 (Conv2D)        (None, 224, 224, 64)      36928     \n",
      "_________________________________________________________________\n",
      "block1_pool (MaxPooling2D)   (None, 112, 112, 64)      0         \n",
      "_________________________________________________________________\n",
      "block2_conv1 (Conv2D)        (None, 112, 112, 128)     73856     \n",
      "_________________________________________________________________\n",
      "block2_conv2 (Conv2D)        (None, 112, 112, 128)     147584    \n",
      "_________________________________________________________________\n",
      "block2_pool (MaxPooling2D)   (None, 56, 56, 128)       0         \n",
      "_________________________________________________________________\n",
      "block3_conv1 (Conv2D)        (None, 56, 56, 256)       295168    \n",
      "_________________________________________________________________\n",
      "block3_conv2 (Conv2D)        (None, 56, 56, 256)       590080    \n",
      "_________________________________________________________________\n",
      "block3_conv3 (Conv2D)        (None, 56, 56, 256)       590080    \n",
      "_________________________________________________________________\n",
      "block3_pool (MaxPooling2D)   (None, 28, 28, 256)       0         \n",
      "_________________________________________________________________\n",
      "block4_conv1 (Conv2D)        (None, 28, 28, 512)       1180160   \n",
      "_________________________________________________________________\n",
      "block4_conv2 (Conv2D)        (None, 28, 28, 512)       2359808   \n",
      "_________________________________________________________________\n",
      "block4_conv3 (Conv2D)        (None, 28, 28, 512)       2359808   \n",
      "_________________________________________________________________\n",
      "block4_pool (MaxPooling2D)   (None, 14, 14, 512)       0         \n",
      "_________________________________________________________________\n",
      "block5_conv1 (Conv2D)        (None, 14, 14, 512)       2359808   \n",
      "_________________________________________________________________\n",
      "block5_conv2 (Conv2D)        (None, 14, 14, 512)       2359808   \n",
      "_________________________________________________________________\n",
      "block5_conv3 (Conv2D)        (None, 14, 14, 512)       2359808   \n",
      "_________________________________________________________________\n",
      "block5_pool (MaxPooling2D)   (None, 7, 7, 512)         0         \n",
      "_________________________________________________________________\n",
      "batch_normalization (BatchNo (None, 7, 7, 512)         2048      \n",
      "_________________________________________________________________\n",
      "global_average_pooling2d (Gl (None, 512)               0         \n",
      "_________________________________________________________________\n",
      "dense (Dense)                (None, 1024)              525312    \n",
      "_________________________________________________________________\n",
      "batch_normalization_1 (Batch (None, 1024)              4096      \n",
      "_________________________________________________________________\n",
      "dense_1 (Dense)              (None, 512)               524800    \n",
      "_________________________________________________________________\n",
      "batch_normalization_2 (Batch (None, 512)               2048      \n",
      "_________________________________________________________________\n",
      "dense_2 (Dense)              (None, 4)                 2052      \n",
      "=================================================================\n",
      "Total params: 15,775,044\n",
      "Trainable params: 1,056,260\n",
      "Non-trainable params: 14,718,784\n",
      "_________________________________________________________________\n"
     ]
    }
   ],
   "source": [
    "FC_Head = top_model(vggmodel,classes)\n",
    "vgg_model = Model(inputs = vggmodel.input, outputs = FC_Head)\n",
    "vgg_model.summary()"
   ]
  },
  {
   "cell_type": "code",
   "execution_count": 15,
   "id": "awful-boring",
   "metadata": {},
   "outputs": [],
   "source": [
    "epochs=50\n",
    "train_samples = 2870\n",
    "test_samples = 394\n",
    "vgg_model.compile(loss=\"categorical_crossentropy\",\n",
    "             optimizer=\"adam\",\n",
    "             metrics=['acc'])"
   ]
  },
  {
   "cell_type": "code",
   "execution_count": 16,
   "id": "polyphonic-saturday",
   "metadata": {},
   "outputs": [
    {
     "name": "stdout",
     "output_type": "stream",
     "text": [
      "Epoch 1/50\n",
      "89/89 [==============================] - 71s 770ms/step - loss: 1.3824 - acc: 0.5906 - val_loss: 1.4146 - val_acc: 0.3906\n",
      "Epoch 2/50\n",
      "89/89 [==============================] - 70s 768ms/step - loss: 0.7362 - acc: 0.7448 - val_loss: 1.4178 - val_acc: 0.4167\n",
      "Epoch 3/50\n",
      "89/89 [==============================] - 69s 766ms/step - loss: 0.6021 - acc: 0.7716 - val_loss: 1.4123 - val_acc: 0.5208\n",
      "Epoch 4/50\n",
      "89/89 [==============================] - 70s 778ms/step - loss: 0.6137 - acc: 0.7671 - val_loss: 1.4836 - val_acc: 0.5573\n",
      "Epoch 5/50\n",
      "89/89 [==============================] - 71s 791ms/step - loss: 0.5198 - acc: 0.7983 - val_loss: 1.6201 - val_acc: 0.6302\n",
      "Epoch 6/50\n",
      "89/89 [==============================] - 68s 761ms/step - loss: 0.5039 - acc: 0.7903 - val_loss: 2.0417 - val_acc: 0.6016\n",
      "Epoch 7/50\n",
      "89/89 [==============================] - 69s 761ms/step - loss: 0.5188 - acc: 0.7958 - val_loss: 1.7222 - val_acc: 0.6276\n",
      "Epoch 8/50\n",
      "89/89 [==============================] - 69s 759ms/step - loss: 0.5169 - acc: 0.8109 - val_loss: 1.9443 - val_acc: 0.6120\n",
      "Epoch 9/50\n",
      "89/89 [==============================] - 70s 779ms/step - loss: 0.4724 - acc: 0.8119 - val_loss: 1.6700 - val_acc: 0.6172\n",
      "Epoch 10/50\n",
      "89/89 [==============================] - 71s 785ms/step - loss: 0.4825 - acc: 0.8225 - val_loss: 2.0030 - val_acc: 0.6276\n",
      "Epoch 11/50\n",
      "89/89 [==============================] - 70s 771ms/step - loss: 0.4917 - acc: 0.8043 - val_loss: 2.1083 - val_acc: 0.6224\n",
      "Epoch 12/50\n",
      "89/89 [==============================] - 69s 768ms/step - loss: 0.4372 - acc: 0.8323 - val_loss: 1.9263 - val_acc: 0.6745\n",
      "Epoch 13/50\n",
      "89/89 [==============================] - 69s 765ms/step - loss: 0.4625 - acc: 0.8154 - val_loss: 1.9217 - val_acc: 0.6536\n",
      "Epoch 14/50\n",
      "89/89 [==============================] - 68s 757ms/step - loss: 0.4441 - acc: 0.8276 - val_loss: 1.9837 - val_acc: 0.6589\n",
      "Epoch 15/50\n",
      "89/89 [==============================] - 67s 755ms/step - loss: 0.4774 - acc: 0.8136 - val_loss: 1.7764 - val_acc: 0.6745\n",
      "Epoch 16/50\n",
      "89/89 [==============================] - 69s 771ms/step - loss: 0.4361 - acc: 0.8266 - val_loss: 1.7496 - val_acc: 0.6797\n",
      "Epoch 17/50\n",
      "89/89 [==============================] - 69s 765ms/step - loss: 0.4196 - acc: 0.8290 - val_loss: 1.7361 - val_acc: 0.6771\n",
      "Epoch 18/50\n",
      "89/89 [==============================] - 68s 759ms/step - loss: 0.3985 - acc: 0.8420 - val_loss: 1.8116 - val_acc: 0.6849\n",
      "Epoch 19/50\n",
      "89/89 [==============================] - 68s 761ms/step - loss: 0.3850 - acc: 0.8512 - val_loss: 2.1174 - val_acc: 0.6693\n",
      "Epoch 20/50\n",
      "89/89 [==============================] - 71s 796ms/step - loss: 0.4101 - acc: 0.8468 - val_loss: 1.9709 - val_acc: 0.7083\n",
      "Epoch 21/50\n",
      "89/89 [==============================] - 68s 756ms/step - loss: 0.4255 - acc: 0.8300 - val_loss: 2.0062 - val_acc: 0.6823\n",
      "Epoch 22/50\n",
      "89/89 [==============================] - 67s 755ms/step - loss: 0.3628 - acc: 0.8686 - val_loss: 1.7405 - val_acc: 0.6979\n",
      "Epoch 23/50\n",
      "89/89 [==============================] - 67s 754ms/step - loss: 0.3520 - acc: 0.8600 - val_loss: 1.8821 - val_acc: 0.7057\n",
      "Epoch 24/50\n",
      "89/89 [==============================] - 67s 752ms/step - loss: 0.3832 - acc: 0.8429 - val_loss: 2.0449 - val_acc: 0.6979\n",
      "Epoch 25/50\n",
      "89/89 [==============================] - 68s 762ms/step - loss: 0.3894 - acc: 0.8583 - val_loss: 1.7442 - val_acc: 0.6901\n",
      "Epoch 26/50\n",
      "89/89 [==============================] - 68s 758ms/step - loss: 0.3471 - acc: 0.8565 - val_loss: 1.6786 - val_acc: 0.7214\n",
      "Epoch 27/50\n",
      "89/89 [==============================] - 67s 755ms/step - loss: 0.3609 - acc: 0.8689 - val_loss: 1.8278 - val_acc: 0.6979\n",
      "Epoch 28/50\n",
      "89/89 [==============================] - 67s 754ms/step - loss: 0.3432 - acc: 0.8744 - val_loss: 1.7174 - val_acc: 0.6927\n",
      "Epoch 29/50\n",
      "89/89 [==============================] - 68s 758ms/step - loss: 0.3348 - acc: 0.8744 - val_loss: 1.8679 - val_acc: 0.7135\n",
      "Epoch 30/50\n",
      "89/89 [==============================] - 67s 752ms/step - loss: 0.3529 - acc: 0.8588 - val_loss: 2.0021 - val_acc: 0.7057\n",
      "Epoch 31/50\n",
      "89/89 [==============================] - 68s 759ms/step - loss: 0.3583 - acc: 0.8644 - val_loss: 1.7488 - val_acc: 0.7396\n",
      "Epoch 32/50\n",
      "89/89 [==============================] - 67s 756ms/step - loss: 0.3459 - acc: 0.8707 - val_loss: 1.7104 - val_acc: 0.7344\n",
      "Epoch 33/50\n",
      "89/89 [==============================] - 68s 757ms/step - loss: 0.3514 - acc: 0.8628 - val_loss: 1.7743 - val_acc: 0.7161\n",
      "Epoch 34/50\n",
      "89/89 [==============================] - 69s 770ms/step - loss: 0.3304 - acc: 0.8773 - val_loss: 2.0165 - val_acc: 0.7083\n",
      "Epoch 35/50\n",
      "89/89 [==============================] - 71s 779ms/step - loss: 0.3397 - acc: 0.8668 - val_loss: 1.8842 - val_acc: 0.7083\n",
      "Epoch 36/50\n",
      "89/89 [==============================] - 70s 774ms/step - loss: 0.3822 - acc: 0.8588 - val_loss: 1.8213 - val_acc: 0.6953\n",
      "Epoch 37/50\n",
      "89/89 [==============================] - 70s 774ms/step - loss: 0.3881 - acc: 0.8480 - val_loss: 1.7447 - val_acc: 0.6797\n",
      "Epoch 38/50\n",
      "89/89 [==============================] - 70s 782ms/step - loss: 0.4196 - acc: 0.8331 - val_loss: 1.7232 - val_acc: 0.6589\n",
      "Epoch 39/50\n",
      "89/89 [==============================] - 70s 778ms/step - loss: 0.4013 - acc: 0.8456 - val_loss: 1.4840 - val_acc: 0.6953\n",
      "Epoch 40/50\n",
      "89/89 [==============================] - 69s 773ms/step - loss: 0.4098 - acc: 0.8388 - val_loss: 1.4691 - val_acc: 0.6745\n",
      "Epoch 41/50\n",
      "89/89 [==============================] - 69s 775ms/step - loss: 0.3604 - acc: 0.8652 - val_loss: 1.8313 - val_acc: 0.6719\n",
      "Epoch 42/50\n",
      "89/89 [==============================] - 70s 782ms/step - loss: 0.3431 - acc: 0.8744 - val_loss: 1.7764 - val_acc: 0.6667\n",
      "Epoch 43/50\n",
      "89/89 [==============================] - 74s 826ms/step - loss: 0.4172 - acc: 0.8464 - val_loss: 1.8624 - val_acc: 0.6901\n",
      "Epoch 44/50\n",
      "89/89 [==============================] - 79s 881ms/step - loss: 0.3606 - acc: 0.8589 - val_loss: 1.5461 - val_acc: 0.7214\n",
      "Epoch 45/50\n",
      "89/89 [==============================] - 84s 942ms/step - loss: 0.3675 - acc: 0.8543 - val_loss: 1.8062 - val_acc: 0.6953\n",
      "Epoch 46/50\n",
      "89/89 [==============================] - 69s 770ms/step - loss: 0.3573 - acc: 0.8699 - val_loss: 1.8859 - val_acc: 0.7370\n",
      "Epoch 47/50\n",
      "89/89 [==============================] - 73s 812ms/step - loss: 0.3347 - acc: 0.8741 - val_loss: 1.7362 - val_acc: 0.7240\n",
      "Epoch 48/50\n",
      "89/89 [==============================] - 69s 765ms/step - loss: 0.3219 - acc: 0.8834 - val_loss: 1.9208 - val_acc: 0.7266\n",
      "Epoch 49/50\n",
      "89/89 [==============================] - 69s 772ms/step - loss: 0.3422 - acc: 0.8604 - val_loss: 2.1934 - val_acc: 0.7083\n",
      "Epoch 50/50\n",
      "89/89 [==============================] - 68s 765ms/step - loss: 0.3582 - acc: 0.8632 - val_loss: 2.1249 - val_acc: 0.7188\n"
     ]
    }
   ],
   "source": [
    "history_vgg = vgg_model.fit(train_generator,\n",
    "                   epochs=epochs,\n",
    "                   steps_per_epoch = train_samples//batch_size,\n",
    "                   validation_data = test_generator,\n",
    "                   validation_steps = test_samples//batch_size)"
   ]
  },
  {
   "cell_type": "code",
   "execution_count": 17,
   "id": "challenging-prerequisite",
   "metadata": {},
   "outputs": [
    {
     "name": "stdout",
     "output_type": "stream",
     "text": [
      "13/13 [==============================] - 9s 638ms/step - loss: 2.1327 - acc: 0.7132\n",
      "Test Accuracy: 71.320 Test Loss: 2.133\n"
     ]
    }
   ],
   "source": [
    "scores=vgg_model.evaluate(test_generator,steps=test_samples//batch_size+1,verbose=1)\n",
    "print(\"Test Accuracy: %.3f Test Loss: %.3f\"%(scores[1]*100,scores[0]))"
   ]
  },
  {
   "cell_type": "code",
   "execution_count": 20,
   "id": "interim-label",
   "metadata": {},
   "outputs": [],
   "source": [
    "vgg_model.save('vgg_model_brainTumor.h5')"
   ]
  },
  {
   "cell_type": "code",
   "execution_count": 23,
   "id": "medical-scientist",
   "metadata": {},
   "outputs": [],
   "source": [
    "classifier = vgg_model"
   ]
  },
  {
   "cell_type": "code",
   "execution_count": 24,
   "id": "honest-robinson",
   "metadata": {},
   "outputs": [
    {
     "name": "stdout",
     "output_type": "stream",
     "text": [
      "12/12 [==============================] - 9s 645ms/step\n"
     ]
    },
    {
     "data": {
      "text/plain": [
       "array([2, 2, 3, 2, 1, 2, 1, 1, 1, 1, 1, 2, 2, 1, 2, 2, 2, 2, 1, 2, 2, 2,\n",
       "       2, 3, 1, 0, 2, 2, 1, 3, 0, 1, 2, 2, 1, 1, 1, 3, 2, 2, 1, 1, 0, 1,\n",
       "       2, 2, 2, 2, 2, 2, 3, 3, 3, 2, 1, 1, 3, 1, 1, 1, 0, 2, 2, 2, 1, 3,\n",
       "       1, 0, 2, 3, 1, 1, 3, 1, 1, 1, 2, 2, 1, 1, 3, 0, 3, 1, 2, 1, 2, 1,\n",
       "       2, 3, 3, 2, 2, 2, 1, 3, 1, 2, 2, 0, 0, 2, 2, 1, 2, 3, 0, 1, 1, 1,\n",
       "       0, 1, 1, 3, 2, 1, 0, 3, 2, 1, 2, 3, 2, 1, 3, 1, 2, 3, 1, 3, 1, 1,\n",
       "       1, 1, 1, 1, 1, 2, 2, 2, 2, 2, 1, 1, 2, 1, 1, 2, 2, 2, 1, 3, 3, 2,\n",
       "       1, 2, 1, 1, 1, 3, 2, 2, 2, 2, 2, 1, 1, 1, 1, 1, 3, 1, 1, 2, 1, 2,\n",
       "       1, 3, 2, 2, 3, 1, 1, 2, 1, 1, 1, 3, 2, 2, 3, 3, 1, 3, 2, 2, 2, 2,\n",
       "       3, 3, 1, 0, 2, 1, 3, 1, 1, 1, 2, 1, 2, 2, 2, 2, 2, 3, 1, 1, 1, 1,\n",
       "       2, 1, 2, 3, 2, 2, 1, 1, 3, 3, 2, 0, 2, 1, 3, 0, 2, 1, 2, 2, 3, 3,\n",
       "       2, 1, 3, 1, 2, 1, 2, 0, 0, 3, 3, 2, 2, 2, 3, 3, 1, 0, 1, 1, 1, 2,\n",
       "       1, 2, 1, 3, 1, 1, 1, 1, 2, 3, 2, 1, 1, 3, 2, 2, 1, 2, 2, 1, 1, 2,\n",
       "       3, 3, 2, 1, 1, 3, 2, 3, 1, 1, 2, 3, 2, 1, 1, 1, 2, 3, 2, 3, 3, 2,\n",
       "       1, 0, 2, 3, 1, 2, 3, 2, 1, 1, 3, 2, 1, 2, 3, 2, 2, 1, 1, 3, 2, 2,\n",
       "       1, 2, 3, 3, 2, 0, 2, 1, 2, 3, 3, 2, 2, 3, 2, 1, 2, 1, 3, 1, 1, 0,\n",
       "       1, 1, 3, 1, 1, 1, 1, 1, 2, 0, 1, 1, 2, 1, 1, 2, 2, 2, 2, 1, 3, 2,\n",
       "       1, 3, 1, 2, 0, 2, 3, 3, 2, 1])"
      ]
     },
     "execution_count": 24,
     "metadata": {},
     "output_type": "execute_result"
    }
   ],
   "source": [
    "test_pred = classifier.predict(test_generator,steps = test_samples//batch_size, verbose=1)\n",
    "test_labels = np.argmax(test_pred,axis=1)\n",
    "test_labels"
   ]
  },
  {
   "cell_type": "code",
   "execution_count": 25,
   "id": "fantastic-retro",
   "metadata": {},
   "outputs": [
    {
     "data": {
      "image/png": "[encoded data removed]",
      "text/plain": [
       "<Figure size 432x288 with 1 Axes>"
      ]
     },
     "metadata": {
      "needs_background": "light"
     },
     "output_type": "display_data"
    }
   ],
   "source": [
    "from PIL import Image \n",
    "from matplotlib import pyplot as plt \n",
    "IMG = Image.open('input/Testing/pituitary_tumor/image(52).jpg')\n",
    "plt.imshow(IMG)\n",
    "IMG = IMG.resize((224,224))\n",
    "IMG = np.array(IMG)\n",
    "IMG = np.true_divide(IMG,255)\n",
    "IMG = IMG.reshape(1, 224,224, 3)"
   ]
  },
  {
   "cell_type": "code",
   "execution_count": 26,
   "id": "literary-junction",
   "metadata": {},
   "outputs": [
    {
     "name": "stdout",
     "output_type": "stream",
     "text": [
      "[[1.2881317e-09 1.5494573e-03 1.0376956e-02 9.8807353e-01]] [3]\n"
     ]
    }
   ],
   "source": [
    "predictions = classifier.predict(IMG)\n",
    "predicted_classes = np.argmax(predictions,axis=1)\n",
    "print(predictions, predicted_classes)"
   ]
  },
  {
   "cell_type": "code",
   "execution_count": 27,
   "id": "revised-twelve",
   "metadata": {},
   "outputs": [
    {
     "name": "stdout",
     "output_type": "stream",
     "text": [
      "I think this image is among the pituitary_tumor.\n"
     ]
    }
   ],
   "source": [
    "classes = {\n",
    "    'TRAIN':['glioma_tumor', 'meningioma_tumor','no_tumor','pituitary_tumor'],\n",
    "    'TEST':['glioma_tumor', 'meningioma_tumor','no_tumor','pituitary_tumor']}\n",
    "\n",
    "predicted_class = classes['TEST'][predicted_classes[0]]\n",
    "print(\"I think this image is among the {}.\".format(predicted_class.lower()))"
   ]
  },
  {
   "cell_type": "code",
   "execution_count": null,
   "id": "incomplete-tunisia",
   "metadata": {},
   "outputs": [],
   "source": []
  }
 ],
 "metadata": {
  "kernelspec": {
   "display_name": "Python 3",
   "language": "python",
   "name": "python3"
  },
  "language_info": {
   "codemirror_mode": {
    "name": "ipython",
    "version": 3
   },
   "file_extension": ".py",
   "mimetype": "text/x-python",
   "name": "python",
   "nbconvert_exporter": "python",
   "pygments_lexer": "ipython3",
   "version": "3.8.8"
  }
 },
 "nbformat": 4,
 "nbformat_minor": 5
}
