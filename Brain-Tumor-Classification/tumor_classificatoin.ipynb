{
  "nbformat": 4,
  "nbformat_minor": 5,
  "metadata": {
    "kernelspec": {
      "display_name": "Python 3",
      "language": "python",
      "name": "python3"
    },
    "language_info": {
      "codemirror_mode": {
        "name": "ipython",
        "version": 3
      },
      "file_extension": ".py",
      "mimetype": "text/x-python",
      "name": "python",
      "nbconvert_exporter": "python",
      "pygments_lexer": "ipython3",
      "version": "3.8.8"
    },
    "colab": {
      "name": "tumor-classificatoin.ipynb",
      "provenance": [],
      "collapsed_sections": []
    },
    "accelerator": "GPU"
  },
  "cells": [
    {
      "cell_type": "code",
      "metadata": {
        "id": "collectible-crown"
      },
      "source": [
        "import numpy as np\n",
        "import tensorflow.keras\n",
        "import tensorflow as tf\n",
        "from tensorflow.keras.preprocessing.image import ImageDataGenerator\n",
        "from tensorflow.keras.models import Sequential,Model,load_model\n",
        "from tensorflow.keras.layers import Conv2D, MaxPooling2D\n",
        "from tensorflow.keras.layers import Dense,Dropout,Activation,Flatten,BatchNormalization\n",
        "from tensorflow.keras.optimizers import Adam"
      ],
      "id": "collectible-crown",
      "execution_count": 1,
      "outputs": []
    },
    {
      "cell_type": "code",
      "metadata": {
        "colab": {
          "base_uri": "https://localhost:8080/"
        },
        "id": "XuIsd6YS46o3",
        "outputId": "7a7a8e66-4cae-408f-a349-9da457013a0e"
      },
      "source": [
        "from google.colab import drive\n",
        "drive.mount('/content/drive')"
      ],
      "id": "XuIsd6YS46o3",
      "execution_count": 2,
      "outputs": [
        {
          "output_type": "stream",
          "text": [
            "Mounted at /content/drive\n"
          ],
          "name": "stdout"
        }
      ]
    },
    {
      "cell_type": "code",
      "metadata": {
        "id": "i99bXn-k5Z1b"
      },
      "source": [
        "#!cp drive/MyDrive/Colab\\ Notebooks/Data/input.zip .\n",
        "#!unzip input.zip"
      ],
      "id": "i99bXn-k5Z1b",
      "execution_count": 26,
      "outputs": []
    },
    {
      "cell_type": "code",
      "metadata": {
        "id": "phantom-equilibrium"
      },
      "source": [
        "from tensorflow.python.compiler.mlcompute import mlcompute\n",
        "mlcompute.is_apple_mlc_enabled()\n",
        "mlcompute.is_tf_compiled_with_apple_mlc()\n",
        "mlcompute.set_mlc_device(device_name='gpu')"
      ],
      "id": "phantom-equilibrium",
      "execution_count": null,
      "outputs": []
    },
    {
      "cell_type": "code",
      "metadata": {
        "id": "funded-disability"
      },
      "source": [
        "train_data = \"input/Training/\"\n",
        "test_data = \"input/Testing/\""
      ],
      "id": "funded-disability",
      "execution_count": 27,
      "outputs": []
    },
    {
      "cell_type": "code",
      "metadata": {
        "id": "worse-brand"
      },
      "source": [
        "img_rows, img_cols = 224, 224\n",
        "batch_size = 32\n",
        "classes = 4"
      ],
      "id": "worse-brand",
      "execution_count": 28,
      "outputs": []
    },
    {
      "cell_type": "code",
      "metadata": {
        "id": "engaging-brief"
      },
      "source": [
        "train_datagen = ImageDataGenerator(rescale = 1./255,\n",
        "                                   rotation_range=25,\n",
        "                                   height_shift_range = 0.3,\n",
        "                                   width_shift_range = 0.3,\n",
        "                                   zoom_range = 0.2,\n",
        "                                   horizontal_flip = True,\n",
        "                                   vertical_flip = True,\n",
        "                                   fill_mode = \"nearest\")\n",
        "test_datagen = ImageDataGenerator(rescale = 1./255)"
      ],
      "id": "engaging-brief",
      "execution_count": 29,
      "outputs": []
    },
    {
      "cell_type": "code",
      "metadata": {
        "colab": {
          "base_uri": "https://localhost:8080/"
        },
        "id": "aging-eating",
        "outputId": "56aa2a9f-bdc5-4f0d-9e9d-7dcd465b3d51"
      },
      "source": [
        "train_generator = train_datagen.flow_from_directory(train_data,\n",
        "                                                    batch_size = batch_size,\n",
        "                                                    target_size = (img_rows, img_cols),\n",
        "                                                    class_mode = \"categorical\",\n",
        "                                                    shuffle = True)"
      ],
      "id": "aging-eating",
      "execution_count": 30,
      "outputs": [
        {
          "output_type": "stream",
          "text": [
            "Found 2870 images belonging to 4 classes.\n"
          ],
          "name": "stdout"
        }
      ]
    },
    {
      "cell_type": "code",
      "metadata": {
        "colab": {
          "base_uri": "https://localhost:8080/"
        },
        "id": "august-church",
        "outputId": "8091afd8-e73c-445d-f0eb-18a5531abe33"
      },
      "source": [
        "test_generator = test_datagen.flow_from_directory(test_data,\n",
        "                                                batch_size = batch_size,\n",
        "                                                target_size = (img_rows, img_cols),\n",
        "                                                class_mode = \"categorical\")"
      ],
      "id": "august-church",
      "execution_count": 31,
      "outputs": [
        {
          "output_type": "stream",
          "text": [
            "Found 394 images belonging to 4 classes.\n"
          ],
          "name": "stdout"
        }
      ]
    },
    {
      "cell_type": "code",
      "metadata": {
        "id": "entire-glenn"
      },
      "source": [
        "from tensorflow.keras.applications import VGG16\n",
        "from tensorflow.keras.layers import ZeroPadding2D,GlobalAveragePooling2D"
      ],
      "id": "entire-glenn",
      "execution_count": 32,
      "outputs": []
    },
    {
      "cell_type": "code",
      "metadata": {
        "colab": {
          "base_uri": "https://localhost:8080/"
        },
        "id": "dynamic-steering",
        "outputId": "284fb103-4711-4856-a5db-48f2a25c7d37"
      },
      "source": [
        "vggmodel = VGG16(weights=\"imagenet\",\n",
        "                input_shape=(img_rows,img_cols,3),\n",
        "                include_top=False)\n",
        "for layer in vggmodel.layers:\n",
        "    layer.trainable=False\n",
        "    \n",
        "def top_model(bottom_model,num_classes):\n",
        "    top_model = bottom_model.output\n",
        "    top_model = BatchNormalization()(top_model)\n",
        "    top_model = GlobalAveragePooling2D()(top_model)\n",
        "    top_model = Dense(1024,activation=\"relu\")(top_model)\n",
        "    top_model = BatchNormalization()(top_model)\n",
        "    top_model = Dense(512,activation=\"relu\")(top_model)\n",
        "    top_model = BatchNormalization()(top_model)\n",
        "    top_model = Dense(num_classes,activation=\"softmax\")(top_model)\n",
        "    return top_model"
      ],
      "id": "dynamic-steering",
      "execution_count": 33,
      "outputs": [
        {
          "output_type": "stream",
          "text": [
            "Downloading data from https://storage.googleapis.com/tensorflow/keras-applications/vgg16/vgg16_weights_tf_dim_ordering_tf_kernels_notop.h5\n",
            "58892288/58889256 [==============================] - 1s 0us/step\n"
          ],
          "name": "stdout"
        }
      ]
    },
    {
      "cell_type": "code",
      "metadata": {
        "colab": {
          "base_uri": "https://localhost:8080/"
        },
        "id": "agricultural-wallet",
        "outputId": "01733aec-8ee4-446e-93b3-7186986d2fbf"
      },
      "source": [
        "FC_Head = top_model(vggmodel,classes)\n",
        "vgg_model = Model(inputs = vggmodel.input, outputs = FC_Head)\n",
        "vgg_model.summary()"
      ],
      "id": "agricultural-wallet",
      "execution_count": 34,
      "outputs": [
        {
          "output_type": "stream",
          "text": [
            "Model: \"model\"\n",
            "_________________________________________________________________\n",
            "Layer (type)                 Output Shape              Param #   \n",
            "=================================================================\n",
            "input_1 (InputLayer)         [(None, 224, 224, 3)]     0         \n",
            "_________________________________________________________________\n",
            "block1_conv1 (Conv2D)        (None, 224, 224, 64)      1792      \n",
            "_________________________________________________________________\n",
            "block1_conv2 (Conv2D)        (None, 224, 224, 64)      36928     \n",
            "_________________________________________________________________\n",
            "block1_pool (MaxPooling2D)   (None, 112, 112, 64)      0         \n",
            "_________________________________________________________________\n",
            "block2_conv1 (Conv2D)        (None, 112, 112, 128)     73856     \n",
            "_________________________________________________________________\n",
            "block2_conv2 (Conv2D)        (None, 112, 112, 128)     147584    \n",
            "_________________________________________________________________\n",
            "block2_pool (MaxPooling2D)   (None, 56, 56, 128)       0         \n",
            "_________________________________________________________________\n",
            "block3_conv1 (Conv2D)        (None, 56, 56, 256)       295168    \n",
            "_________________________________________________________________\n",
            "block3_conv2 (Conv2D)        (None, 56, 56, 256)       590080    \n",
            "_________________________________________________________________\n",
            "block3_conv3 (Conv2D)        (None, 56, 56, 256)       590080    \n",
            "_________________________________________________________________\n",
            "block3_pool (MaxPooling2D)   (None, 28, 28, 256)       0         \n",
            "_________________________________________________________________\n",
            "block4_conv1 (Conv2D)        (None, 28, 28, 512)       1180160   \n",
            "_________________________________________________________________\n",
            "block4_conv2 (Conv2D)        (None, 28, 28, 512)       2359808   \n",
            "_________________________________________________________________\n",
            "block4_conv3 (Conv2D)        (None, 28, 28, 512)       2359808   \n",
            "_________________________________________________________________\n",
            "block4_pool (MaxPooling2D)   (None, 14, 14, 512)       0         \n",
            "_________________________________________________________________\n",
            "block5_conv1 (Conv2D)        (None, 14, 14, 512)       2359808   \n",
            "_________________________________________________________________\n",
            "block5_conv2 (Conv2D)        (None, 14, 14, 512)       2359808   \n",
            "_________________________________________________________________\n",
            "block5_conv3 (Conv2D)        (None, 14, 14, 512)       2359808   \n",
            "_________________________________________________________________\n",
            "block5_pool (MaxPooling2D)   (None, 7, 7, 512)         0         \n",
            "_________________________________________________________________\n",
            "batch_normalization (BatchNo (None, 7, 7, 512)         2048      \n",
            "_________________________________________________________________\n",
            "global_average_pooling2d (Gl (None, 512)               0         \n",
            "_________________________________________________________________\n",
            "dense (Dense)                (None, 1024)              525312    \n",
            "_________________________________________________________________\n",
            "batch_normalization_1 (Batch (None, 1024)              4096      \n",
            "_________________________________________________________________\n",
            "dense_1 (Dense)              (None, 512)               524800    \n",
            "_________________________________________________________________\n",
            "batch_normalization_2 (Batch (None, 512)               2048      \n",
            "_________________________________________________________________\n",
            "dense_2 (Dense)              (None, 4)                 2052      \n",
            "=================================================================\n",
            "Total params: 15,775,044\n",
            "Trainable params: 1,056,260\n",
            "Non-trainable params: 14,718,784\n",
            "_________________________________________________________________\n"
          ],
          "name": "stdout"
        }
      ]
    },
    {
      "cell_type": "code",
      "metadata": {
        "id": "awful-boring"
      },
      "source": [
        "epochs=50\n",
        "train_samples = 2870\n",
        "test_samples = 394\n",
        "vgg_model.compile(loss=\"categorical_crossentropy\",\n",
        "             optimizer=\"adam\",\n",
        "             metrics=['acc'])"
      ],
      "id": "awful-boring",
      "execution_count": 35,
      "outputs": []
    },
    {
      "cell_type": "code",
      "metadata": {
        "colab": {
          "base_uri": "https://localhost:8080/"
        },
        "id": "polyphonic-saturday",
        "outputId": "9476d2ed-aecf-4b23-b04c-30e7b37723a0"
      },
      "source": [
        "history_vgg = vgg_model.fit(train_generator,\n",
        "                   epochs=epochs,\n",
        "                   steps_per_epoch = train_samples//batch_size,\n",
        "                   validation_data = test_generator,\n",
        "                   validation_steps = test_samples//batch_size)"
      ],
      "id": "polyphonic-saturday",
      "execution_count": 36,
      "outputs": [
        {
          "output_type": "stream",
          "text": [
            "Epoch 1/50\n",
            "89/89 [==============================] - 85s 521ms/step - loss: 1.3359 - acc: 0.6177 - val_loss: 1.4601 - val_acc: 0.3490\n",
            "Epoch 2/50\n",
            "89/89 [==============================] - 42s 470ms/step - loss: 0.6946 - acc: 0.7427 - val_loss: 1.3044 - val_acc: 0.4896\n",
            "Epoch 3/50\n",
            "89/89 [==============================] - 42s 467ms/step - loss: 0.6349 - acc: 0.7585 - val_loss: 1.4262 - val_acc: 0.5443\n",
            "Epoch 4/50\n",
            "89/89 [==============================] - 42s 466ms/step - loss: 0.4956 - acc: 0.8101 - val_loss: 1.0763 - val_acc: 0.6510\n",
            "Epoch 5/50\n",
            "89/89 [==============================] - 42s 469ms/step - loss: 0.5408 - acc: 0.8017 - val_loss: 1.3717 - val_acc: 0.6172\n",
            "Epoch 6/50\n",
            "89/89 [==============================] - 42s 470ms/step - loss: 0.4565 - acc: 0.8298 - val_loss: 1.8102 - val_acc: 0.6615\n",
            "Epoch 7/50\n",
            "89/89 [==============================] - 41s 465ms/step - loss: 0.4496 - acc: 0.8262 - val_loss: 2.0821 - val_acc: 0.6120\n",
            "Epoch 8/50\n",
            "89/89 [==============================] - 42s 469ms/step - loss: 0.4162 - acc: 0.8378 - val_loss: 1.8395 - val_acc: 0.6536\n",
            "Epoch 9/50\n",
            "89/89 [==============================] - 42s 473ms/step - loss: 0.4124 - acc: 0.8458 - val_loss: 2.1279 - val_acc: 0.6667\n",
            "Epoch 10/50\n",
            "89/89 [==============================] - 42s 473ms/step - loss: 0.4470 - acc: 0.8231 - val_loss: 1.4792 - val_acc: 0.7057\n",
            "Epoch 11/50\n",
            "89/89 [==============================] - 41s 466ms/step - loss: 0.3941 - acc: 0.8479 - val_loss: 1.8951 - val_acc: 0.6589\n",
            "Epoch 12/50\n",
            "89/89 [==============================] - 41s 463ms/step - loss: 0.3820 - acc: 0.8447 - val_loss: 1.7643 - val_acc: 0.7214\n",
            "Epoch 13/50\n",
            "89/89 [==============================] - 41s 462ms/step - loss: 0.3715 - acc: 0.8531 - val_loss: 1.8569 - val_acc: 0.6667\n",
            "Epoch 14/50\n",
            "89/89 [==============================] - 42s 467ms/step - loss: 0.4213 - acc: 0.8456 - val_loss: 1.9127 - val_acc: 0.6823\n",
            "Epoch 15/50\n",
            "89/89 [==============================] - 41s 464ms/step - loss: 0.3899 - acc: 0.8359 - val_loss: 2.1105 - val_acc: 0.6719\n",
            "Epoch 16/50\n",
            "89/89 [==============================] - 41s 465ms/step - loss: 0.3611 - acc: 0.8587 - val_loss: 2.2264 - val_acc: 0.6979\n",
            "Epoch 17/50\n",
            "89/89 [==============================] - 41s 465ms/step - loss: 0.3597 - acc: 0.8592 - val_loss: 1.6135 - val_acc: 0.6953\n",
            "Epoch 18/50\n",
            "89/89 [==============================] - 41s 466ms/step - loss: 0.3475 - acc: 0.8780 - val_loss: 2.0683 - val_acc: 0.6953\n",
            "Epoch 19/50\n",
            "89/89 [==============================] - 41s 463ms/step - loss: 0.3565 - acc: 0.8613 - val_loss: 1.8968 - val_acc: 0.7083\n",
            "Epoch 20/50\n",
            "89/89 [==============================] - 41s 466ms/step - loss: 0.3716 - acc: 0.8521 - val_loss: 1.9039 - val_acc: 0.6901\n",
            "Epoch 21/50\n",
            "89/89 [==============================] - 42s 466ms/step - loss: 0.3301 - acc: 0.8751 - val_loss: 2.0126 - val_acc: 0.7109\n",
            "Epoch 22/50\n",
            "89/89 [==============================] - 41s 465ms/step - loss: 0.3580 - acc: 0.8534 - val_loss: 1.7591 - val_acc: 0.7109\n",
            "Epoch 23/50\n",
            "89/89 [==============================] - 42s 468ms/step - loss: 0.3758 - acc: 0.8555 - val_loss: 2.0013 - val_acc: 0.7240\n",
            "Epoch 24/50\n",
            "89/89 [==============================] - 42s 466ms/step - loss: 0.3453 - acc: 0.8630 - val_loss: 2.0072 - val_acc: 0.7214\n",
            "Epoch 25/50\n",
            "89/89 [==============================] - 42s 467ms/step - loss: 0.3036 - acc: 0.8817 - val_loss: 2.2877 - val_acc: 0.7161\n",
            "Epoch 26/50\n",
            "89/89 [==============================] - 42s 466ms/step - loss: 0.3556 - acc: 0.8600 - val_loss: 2.1415 - val_acc: 0.7005\n",
            "Epoch 27/50\n",
            "89/89 [==============================] - 42s 467ms/step - loss: 0.3285 - acc: 0.8719 - val_loss: 1.9521 - val_acc: 0.7266\n",
            "Epoch 28/50\n",
            "89/89 [==============================] - 42s 466ms/step - loss: 0.3195 - acc: 0.8686 - val_loss: 1.9915 - val_acc: 0.7266\n",
            "Epoch 29/50\n",
            "89/89 [==============================] - 42s 466ms/step - loss: 0.3302 - acc: 0.8732 - val_loss: 1.9421 - val_acc: 0.7552\n",
            "Epoch 30/50\n",
            "89/89 [==============================] - 42s 467ms/step - loss: 0.2801 - acc: 0.8884 - val_loss: 2.0668 - val_acc: 0.7266\n",
            "Epoch 31/50\n",
            "89/89 [==============================] - 42s 467ms/step - loss: 0.3127 - acc: 0.8766 - val_loss: 2.1074 - val_acc: 0.7135\n",
            "Epoch 32/50\n",
            "89/89 [==============================] - 41s 463ms/step - loss: 0.3055 - acc: 0.8746 - val_loss: 2.1576 - val_acc: 0.6875\n",
            "Epoch 33/50\n",
            "89/89 [==============================] - 42s 466ms/step - loss: 0.2847 - acc: 0.8834 - val_loss: 2.5858 - val_acc: 0.7188\n",
            "Epoch 34/50\n",
            "89/89 [==============================] - 41s 464ms/step - loss: 0.2728 - acc: 0.8892 - val_loss: 1.8114 - val_acc: 0.7240\n",
            "Epoch 35/50\n",
            "89/89 [==============================] - 42s 466ms/step - loss: 0.2865 - acc: 0.8962 - val_loss: 2.1034 - val_acc: 0.7214\n",
            "Epoch 36/50\n",
            "89/89 [==============================] - 41s 465ms/step - loss: 0.3011 - acc: 0.8793 - val_loss: 2.2324 - val_acc: 0.7005\n",
            "Epoch 37/50\n",
            "89/89 [==============================] - 41s 465ms/step - loss: 0.3005 - acc: 0.8877 - val_loss: 2.2506 - val_acc: 0.7396\n",
            "Epoch 38/50\n",
            "89/89 [==============================] - 41s 467ms/step - loss: 0.2828 - acc: 0.8925 - val_loss: 2.4018 - val_acc: 0.7135\n",
            "Epoch 39/50\n",
            "89/89 [==============================] - 41s 465ms/step - loss: 0.2945 - acc: 0.8848 - val_loss: 2.0563 - val_acc: 0.7240\n",
            "Epoch 40/50\n",
            "89/89 [==============================] - 42s 466ms/step - loss: 0.2837 - acc: 0.8990 - val_loss: 1.9509 - val_acc: 0.7422\n",
            "Epoch 41/50\n",
            "89/89 [==============================] - 41s 463ms/step - loss: 0.2510 - acc: 0.8981 - val_loss: 2.1812 - val_acc: 0.7188\n",
            "Epoch 42/50\n",
            "89/89 [==============================] - 41s 462ms/step - loss: 0.2878 - acc: 0.8954 - val_loss: 1.9519 - val_acc: 0.7396\n",
            "Epoch 43/50\n",
            "89/89 [==============================] - 41s 465ms/step - loss: 0.2886 - acc: 0.8876 - val_loss: 2.4111 - val_acc: 0.7318\n",
            "Epoch 44/50\n",
            "89/89 [==============================] - 42s 467ms/step - loss: 0.2580 - acc: 0.9030 - val_loss: 2.4235 - val_acc: 0.7370\n",
            "Epoch 45/50\n",
            "89/89 [==============================] - 42s 468ms/step - loss: 0.2464 - acc: 0.9043 - val_loss: 2.6494 - val_acc: 0.7292\n",
            "Epoch 46/50\n",
            "89/89 [==============================] - 41s 465ms/step - loss: 0.2669 - acc: 0.9038 - val_loss: 2.4709 - val_acc: 0.7396\n",
            "Epoch 47/50\n",
            "89/89 [==============================] - 41s 464ms/step - loss: 0.2612 - acc: 0.8891 - val_loss: 2.2924 - val_acc: 0.7266\n",
            "Epoch 48/50\n",
            "89/89 [==============================] - 41s 464ms/step - loss: 0.2653 - acc: 0.8918 - val_loss: 1.8034 - val_acc: 0.7474\n",
            "Epoch 49/50\n",
            "89/89 [==============================] - 42s 476ms/step - loss: 0.2433 - acc: 0.9042 - val_loss: 2.4633 - val_acc: 0.7422\n",
            "Epoch 50/50\n",
            "89/89 [==============================] - 42s 476ms/step - loss: 0.2622 - acc: 0.8977 - val_loss: 2.2767 - val_acc: 0.7474\n"
          ],
          "name": "stdout"
        }
      ]
    },
    {
      "cell_type": "code",
      "metadata": {
        "colab": {
          "base_uri": "https://localhost:8080/"
        },
        "id": "challenging-prerequisite",
        "outputId": "c6ac2ad9-caf8-4815-8f0e-8989b0a96776"
      },
      "source": [
        "scores=vgg_model.evaluate(test_generator,steps=test_samples//batch_size+1,verbose=1)\n",
        "print(\"Test Accuracy: %.3f Test Loss: %.3f\"%(scores[1]*100,scores[0]))"
      ],
      "id": "challenging-prerequisite",
      "execution_count": 37,
      "outputs": [
        {
          "output_type": "stream",
          "text": [
            "13/13 [==============================] - 5s 356ms/step - loss: 2.2508 - acc: 0.7487\n",
            "Test Accuracy: 74.873 Test Loss: 2.251\n"
          ],
          "name": "stdout"
        }
      ]
    },
    {
      "cell_type": "code",
      "metadata": {
        "id": "interim-label"
      },
      "source": [
        "vgg_model.save('vgg_model_brainTumor.h5')"
      ],
      "id": "interim-label",
      "execution_count": 38,
      "outputs": []
    },
    {
      "cell_type": "code",
      "metadata": {
        "id": "medical-scientist"
      },
      "source": [
        "classifier = vgg_model"
      ],
      "id": "medical-scientist",
      "execution_count": 39,
      "outputs": []
    },
    {
      "cell_type": "code",
      "metadata": {
        "colab": {
          "base_uri": "https://localhost:8080/"
        },
        "id": "honest-robinson",
        "outputId": "f388ce8e-6b53-4c9f-a98d-e8015fae3ce5"
      },
      "source": [
        "test_pred = classifier.predict(test_generator,steps = test_samples//batch_size, verbose=1)\n",
        "test_labels = np.argmax(test_pred,axis=1)\n",
        "test_labels"
      ],
      "id": "honest-robinson",
      "execution_count": 40,
      "outputs": [
        {
          "output_type": "stream",
          "text": [
            "12/12 [==============================] - 2s 164ms/step\n"
          ],
          "name": "stdout"
        },
        {
          "output_type": "execute_result",
          "data": {
            "text/plain": [
              "array([1, 1, 1, 1, 2, 2, 1, 1, 1, 0, 1, 2, 1, 2, 2, 2, 1, 2, 3, 1, 1, 3,\n",
              "       3, 1, 1, 2, 1, 1, 1, 1, 2, 2, 1, 1, 1, 3, 3, 2, 1, 3, 1, 0, 3, 1,\n",
              "       1, 1, 1, 2, 2, 1, 3, 2, 2, 1, 1, 3, 3, 1, 2, 3, 1, 1, 1, 2, 2, 2,\n",
              "       1, 0, 3, 2, 1, 1, 0, 1, 1, 2, 2, 2, 3, 1, 1, 1, 1, 2, 1, 2, 0, 3,\n",
              "       3, 1, 1, 3, 3, 1, 3, 1, 2, 3, 3, 1, 2, 1, 3, 1, 0, 1, 2, 2, 2, 2,\n",
              "       2, 1, 1, 3, 1, 2, 3, 1, 2, 3, 1, 1, 3, 2, 2, 1, 1, 2, 2, 2, 1, 2,\n",
              "       2, 1, 1, 2, 2, 1, 1, 1, 2, 2, 2, 1, 2, 1, 2, 2, 0, 2, 1, 0, 2, 1,\n",
              "       2, 2, 1, 3, 2, 2, 1, 1, 1, 1, 1, 2, 1, 2, 2, 1, 2, 2, 1, 1, 2, 1,\n",
              "       1, 2, 0, 2, 3, 2, 1, 2, 2, 2, 1, 1, 2, 2, 1, 3, 1, 1, 1, 1, 1, 1,\n",
              "       2, 1, 1, 3, 1, 1, 2, 1, 3, 1, 2, 1, 3, 2, 3, 2, 1, 2, 2, 0, 2, 0,\n",
              "       1, 3, 1, 2, 3, 2, 2, 3, 1, 1, 3, 1, 1, 2, 2, 0, 1, 1, 1, 0, 3, 1,\n",
              "       1, 3, 1, 2, 2, 1, 1, 2, 1, 2, 1, 2, 2, 0, 3, 1, 1, 2, 1, 3, 1, 2,\n",
              "       3, 2, 2, 2, 2, 3, 3, 2, 1, 2, 2, 0, 2, 2, 0, 2, 1, 1, 3, 1, 3, 3,\n",
              "       1, 2, 3, 2, 2, 1, 3, 1, 2, 3, 2, 1, 1, 2, 2, 2, 3, 3, 2, 1, 2, 2,\n",
              "       1, 3, 2, 2, 3, 1, 2, 0, 1, 1, 1, 1, 1, 3, 2, 1, 3, 1, 1, 2, 1, 2,\n",
              "       2, 2, 1, 0, 1, 0, 0, 1, 2, 1, 1, 1, 1, 3, 2, 3, 3, 1, 2, 1, 1, 2,\n",
              "       3, 2, 2, 1, 1, 2, 2, 1, 2, 1, 2, 2, 2, 3, 0, 1, 2, 1, 1, 1, 2, 1,\n",
              "       2, 2, 3, 2, 1, 2, 1, 2, 2, 1])"
            ]
          },
          "metadata": {
            "tags": []
          },
          "execution_count": 40
        }
      ]
    },
    {
      "cell_type": "code",
      "metadata": {
        "colab": {
          "base_uri": "https://localhost:8080/",
          "height": 269
        },
        "id": "fantastic-retro",
        "outputId": "9c585520-b8ff-41b8-c71a-a2129fe1296c"
      },
      "source": [
        "from PIL import Image \n",
        "from matplotlib import pyplot as plt \n",
        "IMG = Image.open('input/Testing/pituitary_tumor/image(52).jpg')\n",
        "plt.imshow(IMG)\n",
        "IMG = IMG.resize((224,224))\n",
        "IMG = np.array(IMG)\n",
        "IMG = np.true_divide(IMG,255)\n",
        "IMG = IMG.reshape(1, 224,224, 3)"
      ],
      "id": "fantastic-retro",
      "execution_count": 41,
      "outputs": [
        {
          "output_type": "display_data",
          "data": {
            "image/png": "[encoded data removed]",
            "text/plain": [
              "<Figure size 432x288 with 1 Axes>"
            ]
          },
          "metadata": {
            "tags": [],
            "needs_background": "light"
          }
        }
      ]
    },
    {
      "cell_type": "code",
      "metadata": {
        "colab": {
          "base_uri": "https://localhost:8080/"
        },
        "id": "literary-junction",
        "outputId": "b2b08d0e-cb71-41d1-a7aa-7cdfd720f846"
      },
      "source": [
        "predictions = classifier.predict(IMG)\n",
        "predicted_classes = np.argmax(predictions,axis=1)\n",
        "print(predictions, predicted_classes)"
      ],
      "id": "literary-junction",
      "execution_count": 42,
      "outputs": [
        {
          "output_type": "stream",
          "text": [
            "[[1.1176252e-08 3.8662449e-02 2.3795324e-03 9.5895803e-01]] [3]\n"
          ],
          "name": "stdout"
        }
      ]
    },
    {
      "cell_type": "code",
      "metadata": {
        "colab": {
          "base_uri": "https://localhost:8080/"
        },
        "id": "revised-twelve",
        "outputId": "10f164e3-8091-4a66-9cf0-46a1463107cd"
      },
      "source": [
        "classes = {\n",
        "    'TRAIN':['glioma_tumor', 'meningioma_tumor','no_tumor','pituitary_tumor'],\n",
        "    'TEST':['glioma_tumor', 'meningioma_tumor','no_tumor','pituitary_tumor']}\n",
        "\n",
        "predicted_class = classes['TEST'][predicted_classes[0]]\n",
        "print(\"I think this image is among the {}.\".format(predicted_class.lower()))"
      ],
      "id": "revised-twelve",
      "execution_count": 43,
      "outputs": [
        {
          "output_type": "stream",
          "text": [
            "I think this image is among the pituitary_tumor.\n"
          ],
          "name": "stdout"
        }
      ]
    },
    {
      "cell_type": "code",
      "metadata": {
        "id": "incomplete-tunisia"
      },
      "source": [
        ""
      ],
      "id": "incomplete-tunisia",
      "execution_count": null,
      "outputs": []
    }
  ]
}